{
 "cells": [
  {
   "cell_type": "markdown",
   "metadata": {},
   "source": [
    "# import modules"
   ]
  },
  {
   "cell_type": "code",
   "execution_count": 1,
   "metadata": {},
   "outputs": [],
   "source": [
    "import librosa\n",
    "import os\n",
    "import pandas as pd\n",
    "import librosa\n",
    "import glob\n",
    "import librosa.display\n",
    "from sklearn.preprocessing import LabelEncoder\n",
    "from sklearn.model_selection import train_test_split\n",
    "import numpy as np\n",
    "from keras.models import Sequential\n",
    "from keras.layers import Dense, Dropout, Activation, Flatten\n",
    "from keras.layers import Convolution2D, MaxPooling2D\n",
    "from keras.optimizers import Adam\n",
    "from keras.utils import np_utils\n",
    "from sklearn import metrics "
   ]
  },
  {
   "cell_type": "markdown",
   "metadata": {},
   "source": [
    "# Define targeting words"
   ]
  },
  {
   "cell_type": "code",
   "execution_count": 231,
   "metadata": {},
   "outputs": [],
   "source": [
    "words = ['dog','bird','cat']"
   ]
  },
  {
   "cell_type": "markdown",
   "metadata": {},
   "source": [
    "# Generate DataFrame of filepath -> label"
   ]
  },
  {
   "cell_type": "code",
   "execution_count": 236,
   "metadata": {},
   "outputs": [],
   "source": [
    "data = []\n",
    "\n",
    "for word in words:\n",
    "    for file in os.listdir('./words/sc/'+word):\n",
    "        data.append([word+'/'+file,word])\n",
    "\n",
    "labels = pd.DataFrame(data,columns=['filepath','label'])"
   ]
  },
  {
   "cell_type": "code",
   "execution_count": 237,
   "metadata": {},
   "outputs": [
    {
     "data": {
      "text/html": [
       "<div>\n",
       "<style scoped>\n",
       "    .dataframe tbody tr th:only-of-type {\n",
       "        vertical-align: middle;\n",
       "    }\n",
       "\n",
       "    .dataframe tbody tr th {\n",
       "        vertical-align: top;\n",
       "    }\n",
       "\n",
       "    .dataframe thead th {\n",
       "        text-align: right;\n",
       "    }\n",
       "</style>\n",
       "<table border=\"1\" class=\"dataframe\">\n",
       "  <thead>\n",
       "    <tr style=\"text-align: right;\">\n",
       "      <th></th>\n",
       "      <th>filepath</th>\n",
       "      <th>label</th>\n",
       "    </tr>\n",
       "  </thead>\n",
       "  <tbody>\n",
       "    <tr>\n",
       "      <th>0</th>\n",
       "      <td>dog/988e2f9a_nohash_0.wav</td>\n",
       "      <td>dog</td>\n",
       "    </tr>\n",
       "    <tr>\n",
       "      <th>1</th>\n",
       "      <td>dog/a7545b9f_nohash_1.wav</td>\n",
       "      <td>dog</td>\n",
       "    </tr>\n",
       "    <tr>\n",
       "      <th>2</th>\n",
       "      <td>dog/6a27a9bf_nohash_0.wav</td>\n",
       "      <td>dog</td>\n",
       "    </tr>\n",
       "    <tr>\n",
       "      <th>3</th>\n",
       "      <td>dog/a9abc695_nohash_1.wav</td>\n",
       "      <td>dog</td>\n",
       "    </tr>\n",
       "    <tr>\n",
       "      <th>4</th>\n",
       "      <td>dog/f428ca69_nohash_1.wav</td>\n",
       "      <td>dog</td>\n",
       "    </tr>\n",
       "    <tr>\n",
       "      <th>...</th>\n",
       "      <td>...</td>\n",
       "      <td>...</td>\n",
       "    </tr>\n",
       "    <tr>\n",
       "      <th>5205</th>\n",
       "      <td>cat/da2c5f1b_nohash_2.wav</td>\n",
       "      <td>cat</td>\n",
       "    </tr>\n",
       "    <tr>\n",
       "      <th>5206</th>\n",
       "      <td>cat/93f30cc4_nohash_1.wav</td>\n",
       "      <td>cat</td>\n",
       "    </tr>\n",
       "    <tr>\n",
       "      <th>5207</th>\n",
       "      <td>cat/c0c0d87d_nohash_0.wav</td>\n",
       "      <td>cat</td>\n",
       "    </tr>\n",
       "    <tr>\n",
       "      <th>5208</th>\n",
       "      <td>cat/f216055e_nohash_0.wav</td>\n",
       "      <td>cat</td>\n",
       "    </tr>\n",
       "    <tr>\n",
       "      <th>5209</th>\n",
       "      <td>cat/2c7c33e8_nohash_0.wav</td>\n",
       "      <td>cat</td>\n",
       "    </tr>\n",
       "  </tbody>\n",
       "</table>\n",
       "<p>5210 rows × 2 columns</p>\n",
       "</div>"
      ],
      "text/plain": [
       "                       filepath label\n",
       "0     dog/988e2f9a_nohash_0.wav   dog\n",
       "1     dog/a7545b9f_nohash_1.wav   dog\n",
       "2     dog/6a27a9bf_nohash_0.wav   dog\n",
       "3     dog/a9abc695_nohash_1.wav   dog\n",
       "4     dog/f428ca69_nohash_1.wav   dog\n",
       "...                         ...   ...\n",
       "5205  cat/da2c5f1b_nohash_2.wav   cat\n",
       "5206  cat/93f30cc4_nohash_1.wav   cat\n",
       "5207  cat/c0c0d87d_nohash_0.wav   cat\n",
       "5208  cat/f216055e_nohash_0.wav   cat\n",
       "5209  cat/2c7c33e8_nohash_0.wav   cat\n",
       "\n",
       "[5210 rows x 2 columns]"
      ]
     },
     "execution_count": 237,
     "metadata": {},
     "output_type": "execute_result"
    }
   ],
   "source": [
    "labels"
   ]
  },
  {
   "cell_type": "markdown",
   "metadata": {},
   "source": [
    "# Parse feautres"
   ]
  },
  {
   "cell_type": "code",
   "execution_count": 238,
   "metadata": {},
   "outputs": [],
   "source": [
    "def parser(row):\n",
    "   filepath = row.filepath\n",
    "   label = row.label\n",
    "   # function to load files and extract features\n",
    "   file_name = os.path.join(os.path.abspath('./words/sc'), filepath)\n",
    "   # print(filename)\n",
    "   # handle exception to check if there isn't a file which is corrupted\n",
    "   try:\n",
    "      # here kaiser_fast is a technique used for faster extraction\n",
    "      X, sample_rate = librosa.load(file_name, res_type='kaiser_fast') \n",
    "      # we extract mfcc feature from data\n",
    "      mfccs = np.mean(librosa.feature.mfcc(y=X, sr=sample_rate, n_mfcc=40).T,axis=0) \n",
    "   except Exception as e:\n",
    "      print(\"Error encountered while parsing file: \", file)\n",
    "      return [None,None]\n",
    " \n",
    "   feature = mfccs\n",
    " \n",
    "   return [feature, label]"
   ]
  },
  {
   "cell_type": "markdown",
   "metadata": {},
   "source": [
    "# THIS CELL RUNS LOOOOOONG"
   ]
  },
  {
   "cell_type": "code",
   "execution_count": 241,
   "metadata": {
    "scrolled": true
   },
   "outputs": [],
   "source": [
    "temp = labels.apply(parser, axis=1)"
   ]
  },
  {
   "cell_type": "markdown",
   "metadata": {},
   "source": [
    "# Prepare Training set"
   ]
  },
  {
   "cell_type": "code",
   "execution_count": 242,
   "metadata": {},
   "outputs": [],
   "source": [
    "df=pd.DataFrame(temp.to_list(),columns = ['feature','label'])\n",
    "X = np.array(df.feature.tolist())\n",
    "y = np.array(df.label.tolist())\n",
    "lb = LabelEncoder()\n",
    "y = np_utils.to_categorical(lb.fit_transform(y))"
   ]
  },
  {
   "cell_type": "code",
   "execution_count": 244,
   "metadata": {},
   "outputs": [
    {
     "data": {
      "text/plain": [
       "(5210, 40)"
      ]
     },
     "execution_count": 244,
     "metadata": {},
     "output_type": "execute_result"
    }
   ],
   "source": [
    "X.shape"
   ]
  },
  {
   "cell_type": "code",
   "execution_count": 245,
   "metadata": {},
   "outputs": [
    {
     "data": {
      "text/plain": [
       "(5210, 3)"
      ]
     },
     "execution_count": 245,
     "metadata": {},
     "output_type": "execute_result"
    }
   ],
   "source": [
    "y.shape"
   ]
  },
  {
   "cell_type": "code",
   "execution_count": 246,
   "metadata": {},
   "outputs": [],
   "source": [
    "def make_Model():\n",
    "    filter_size = 2\n",
    "    num_labels = 3\n",
    "    # build model\n",
    "    model = Sequential()\n",
    "\n",
    "    model.add(Dense(256, input_shape=(40,)))\n",
    "    model.add(Activation('relu'))\n",
    "    model.add(Dropout(0.5))\n",
    "\n",
    "    model.add(Dense(256))\n",
    "    model.add(Activation('relu'))\n",
    "    model.add(Dropout(0.5))\n",
    "\n",
    "    model.add(Dense(num_labels))\n",
    "    model.add(Activation('softmax'))\n",
    "\n",
    "    model.compile(loss='categorical_crossentropy', metrics=['accuracy'], optimizer='adam')\n",
    "    return model\n",
    "\n",
    "def train_Model(split):\n",
    "    X_train, X_test, y_train, y_test = train_test_split(X, y, test_size=split, random_state=22)\n",
    "    model = make_Model()\n",
    "    model.fit(X_train, y_train, batch_size=32, epochs=20, validation_data=(X_test, y_test))\n",
    "    return model\n"
   ]
  },
  {
   "cell_type": "code",
   "execution_count": 247,
   "metadata": {},
   "outputs": [
    {
     "name": "stdout",
     "output_type": "stream",
     "text": [
      "Epoch 1/20\n",
      "131/131 [==============================] - 0s 2ms/step - loss: 12.4362 - accuracy: 0.4091 - val_loss: 0.9239 - val_accuracy: 0.5518\n",
      "Epoch 2/20\n",
      "131/131 [==============================] - 0s 1ms/step - loss: 1.9758 - accuracy: 0.4645 - val_loss: 1.0675 - val_accuracy: 0.5432\n",
      "Epoch 3/20\n",
      "131/131 [==============================] - 0s 1ms/step - loss: 1.2271 - accuracy: 0.4650 - val_loss: 1.0607 - val_accuracy: 0.6132\n",
      "Epoch 4/20\n",
      "131/131 [==============================] - 0s 1ms/step - loss: 1.0529 - accuracy: 0.5019 - val_loss: 0.9583 - val_accuracy: 0.5768\n",
      "Epoch 5/20\n",
      "131/131 [==============================] - 0s 1ms/step - loss: 0.9888 - accuracy: 0.5516 - val_loss: 0.8871 - val_accuracy: 0.7015\n",
      "Epoch 6/20\n",
      "131/131 [==============================] - 0s 1ms/step - loss: 0.9171 - accuracy: 0.5900 - val_loss: 0.7689 - val_accuracy: 0.7274\n",
      "Epoch 7/20\n",
      "131/131 [==============================] - 0s 1ms/step - loss: 0.8658 - accuracy: 0.6260 - val_loss: 0.7016 - val_accuracy: 0.7582\n",
      "Epoch 8/20\n",
      "131/131 [==============================] - 0s 1ms/step - loss: 0.7883 - accuracy: 0.6600 - val_loss: 0.6851 - val_accuracy: 0.7582\n",
      "Epoch 9/20\n",
      "131/131 [==============================] - 0s 1ms/step - loss: 0.7477 - accuracy: 0.6838 - val_loss: 0.6263 - val_accuracy: 0.7831\n",
      "Epoch 10/20\n",
      "131/131 [==============================] - 0s 1ms/step - loss: 0.7082 - accuracy: 0.7121 - val_loss: 0.5811 - val_accuracy: 0.7975\n",
      "Epoch 11/20\n",
      "131/131 [==============================] - 0s 1ms/step - loss: 0.6743 - accuracy: 0.7267 - val_loss: 0.5343 - val_accuracy: 0.8042\n",
      "Epoch 12/20\n",
      "131/131 [==============================] - 0s 1ms/step - loss: 0.6590 - accuracy: 0.7471 - val_loss: 0.5082 - val_accuracy: 0.8205\n",
      "Epoch 13/20\n",
      "131/131 [==============================] - 0s 1ms/step - loss: 0.6270 - accuracy: 0.7543 - val_loss: 0.5117 - val_accuracy: 0.8186\n",
      "Epoch 14/20\n",
      "131/131 [==============================] - 0s 1ms/step - loss: 0.6254 - accuracy: 0.7586 - val_loss: 0.5008 - val_accuracy: 0.8205\n",
      "Epoch 15/20\n",
      "131/131 [==============================] - 0s 1ms/step - loss: 0.5990 - accuracy: 0.7718 - val_loss: 0.5070 - val_accuracy: 0.8225\n",
      "Epoch 16/20\n",
      "131/131 [==============================] - 0s 1ms/step - loss: 0.5778 - accuracy: 0.7877 - val_loss: 0.4958 - val_accuracy: 0.8129\n",
      "Epoch 17/20\n",
      "131/131 [==============================] - 0s 1ms/step - loss: 0.5774 - accuracy: 0.7754 - val_loss: 0.4650 - val_accuracy: 0.8474\n",
      "Epoch 18/20\n",
      "131/131 [==============================] - 0s 1ms/step - loss: 0.5518 - accuracy: 0.7891 - val_loss: 0.4536 - val_accuracy: 0.8273\n",
      "Epoch 19/20\n",
      "131/131 [==============================] - 0s 1ms/step - loss: 0.5375 - accuracy: 0.7985 - val_loss: 0.4577 - val_accuracy: 0.8369\n",
      "Epoch 20/20\n",
      "131/131 [==============================] - 0s 1ms/step - loss: 0.5411 - accuracy: 0.8045 - val_loss: 0.4539 - val_accuracy: 0.8445\n"
     ]
    }
   ],
   "source": [
    "model1 = train_Model(0.2)"
   ]
  },
  {
   "cell_type": "code",
   "execution_count": 250,
   "metadata": {},
   "outputs": [
    {
     "name": "stdout",
     "output_type": "stream",
     "text": [
      "Epoch 1/20\n",
      "82/82 [==============================] - 0s 3ms/step - loss: 18.6240 - accuracy: 0.3835 - val_loss: 1.8472 - val_accuracy: 0.4795\n",
      "Epoch 2/20\n",
      "82/82 [==============================] - 0s 1ms/step - loss: 4.3598 - accuracy: 0.4365 - val_loss: 0.9879 - val_accuracy: 0.5501\n",
      "Epoch 3/20\n",
      "82/82 [==============================] - 0s 1ms/step - loss: 1.9565 - accuracy: 0.4484 - val_loss: 1.0322 - val_accuracy: 0.5555\n",
      "Epoch 4/20\n",
      "82/82 [==============================] - 0s 1ms/step - loss: 1.3475 - accuracy: 0.4672 - val_loss: 1.0463 - val_accuracy: 0.5301\n",
      "Epoch 5/20\n",
      "82/82 [==============================] - 0s 2ms/step - loss: 1.1550 - accuracy: 0.4718 - val_loss: 1.0062 - val_accuracy: 0.6096\n",
      "Epoch 6/20\n",
      "82/82 [==============================] - 0s 2ms/step - loss: 1.0474 - accuracy: 0.5244 - val_loss: 0.9798 - val_accuracy: 0.6276\n",
      "Epoch 7/20\n",
      "82/82 [==============================] - 0s 2ms/step - loss: 0.9830 - accuracy: 0.5478 - val_loss: 0.8814 - val_accuracy: 0.7098\n",
      "Epoch 8/20\n",
      "82/82 [==============================] - 0s 2ms/step - loss: 0.9091 - accuracy: 0.5881 - val_loss: 0.8250 - val_accuracy: 0.7274\n",
      "Epoch 9/20\n",
      "82/82 [==============================] - 0s 2ms/step - loss: 0.9011 - accuracy: 0.5996 - val_loss: 0.7727 - val_accuracy: 0.7355\n",
      "Epoch 10/20\n",
      "82/82 [==============================] - 0s 2ms/step - loss: 0.8520 - accuracy: 0.6192 - val_loss: 0.7272 - val_accuracy: 0.7420\n",
      "Epoch 11/20\n",
      "82/82 [==============================] - 0s 2ms/step - loss: 0.8133 - accuracy: 0.6503 - val_loss: 0.6650 - val_accuracy: 0.7643\n",
      "Epoch 12/20\n",
      "82/82 [==============================] - 0s 2ms/step - loss: 0.8106 - accuracy: 0.6587 - val_loss: 0.6398 - val_accuracy: 0.7804\n",
      "Epoch 13/20\n",
      "82/82 [==============================] - 0s 2ms/step - loss: 0.7535 - accuracy: 0.6741 - val_loss: 0.6288 - val_accuracy: 0.7662\n",
      "Epoch 14/20\n",
      "82/82 [==============================] - 0s 2ms/step - loss: 0.7566 - accuracy: 0.6902 - val_loss: 0.5983 - val_accuracy: 0.8023\n",
      "Epoch 15/20\n",
      "82/82 [==============================] - 0s 2ms/step - loss: 0.7302 - accuracy: 0.6960 - val_loss: 0.5955 - val_accuracy: 0.8054\n",
      "Epoch 16/20\n",
      "82/82 [==============================] - 0s 1ms/step - loss: 0.7052 - accuracy: 0.7213 - val_loss: 0.5605 - val_accuracy: 0.8084\n",
      "Epoch 17/20\n",
      "82/82 [==============================] - 0s 2ms/step - loss: 0.6792 - accuracy: 0.7202 - val_loss: 0.5454 - val_accuracy: 0.8211\n",
      "Epoch 18/20\n",
      "82/82 [==============================] - 0s 2ms/step - loss: 0.6678 - accuracy: 0.7474 - val_loss: 0.5253 - val_accuracy: 0.8230\n",
      "Epoch 19/20\n",
      "82/82 [==============================] - 0s 2ms/step - loss: 0.6487 - accuracy: 0.7420 - val_loss: 0.5301 - val_accuracy: 0.8180\n",
      "Epoch 20/20\n",
      "82/82 [==============================] - 0s 2ms/step - loss: 0.6265 - accuracy: 0.7562 - val_loss: 0.5305 - val_accuracy: 0.7965\n"
     ]
    },
    {
     "data": {
      "text/plain": [
       "<tensorflow.python.keras.engine.sequential.Sequential at 0x15436b6a0>"
      ]
     },
     "execution_count": 250,
     "metadata": {},
     "output_type": "execute_result"
    }
   ],
   "source": [
    "train_Model(0.5)"
   ]
  },
  {
   "cell_type": "code",
   "execution_count": 249,
   "metadata": {},
   "outputs": [],
   "source": [
    "df.to_csv('./words/input.csv', index=False)"
   ]
  },
  {
   "cell_type": "code",
   "execution_count": null,
   "metadata": {},
   "outputs": [],
   "source": []
  }
 ],
 "metadata": {
  "kernelspec": {
   "display_name": "Python 3",
   "language": "python",
   "name": "python3"
  },
  "language_info": {
   "codemirror_mode": {
    "name": "ipython",
    "version": 3
   },
   "file_extension": ".py",
   "mimetype": "text/x-python",
   "name": "python",
   "nbconvert_exporter": "python",
   "pygments_lexer": "ipython3",
   "version": "3.7.3"
  }
 },
 "nbformat": 4,
 "nbformat_minor": 4
}
