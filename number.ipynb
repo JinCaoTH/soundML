{
 "cells": [
  {
   "cell_type": "markdown",
   "metadata": {},
   "source": [
    "# import modules"
   ]
  },
  {
   "cell_type": "code",
   "execution_count": 1,
   "metadata": {},
   "outputs": [],
   "source": [
    "import librosa\n",
    "import os\n",
    "import pandas as pd\n",
    "import librosa\n",
    "import glob\n",
    "import librosa.display\n",
    "from sklearn.preprocessing import LabelEncoder\n",
    "from sklearn.model_selection import train_test_split\n",
    "import numpy as np\n",
    "from keras.models import Sequential\n",
    "from keras.layers import Dense, Dropout, Activation, Flatten\n",
    "from keras.layers import Convolution2D, MaxPooling2D\n",
    "from keras.optimizers import Adam\n",
    "from keras.utils import np_utils\n",
    "from sklearn import metrics "
   ]
  },
  {
   "cell_type": "markdown",
   "metadata": {},
   "source": [
    "# Define targeting words"
   ]
  },
  {
   "cell_type": "code",
   "execution_count": 13,
   "metadata": {},
   "outputs": [],
   "source": [
    "words = ['one','two','three','four','five','six','seven','eight','nine','zero']"
   ]
  },
  {
   "cell_type": "markdown",
   "metadata": {},
   "source": [
    "# Generate DataFrame of filepath -> label"
   ]
  },
  {
   "cell_type": "code",
   "execution_count": 5,
   "metadata": {},
   "outputs": [],
   "source": [
    "data = []\n",
    "\n",
    "for word in words:\n",
    "    for file in os.listdir('./words/sc/'+word):\n",
    "        data.append([word+'/'+file,word])\n",
    "\n",
    "labels = pd.DataFrame(data,columns=['filepath','label'])"
   ]
  },
  {
   "cell_type": "code",
   "execution_count": 6,
   "metadata": {},
   "outputs": [
    {
     "data": {
      "text/html": [
       "<div>\n",
       "<style scoped>\n",
       "    .dataframe tbody tr th:only-of-type {\n",
       "        vertical-align: middle;\n",
       "    }\n",
       "\n",
       "    .dataframe tbody tr th {\n",
       "        vertical-align: top;\n",
       "    }\n",
       "\n",
       "    .dataframe thead th {\n",
       "        text-align: right;\n",
       "    }\n",
       "</style>\n",
       "<table border=\"1\" class=\"dataframe\">\n",
       "  <thead>\n",
       "    <tr style=\"text-align: right;\">\n",
       "      <th></th>\n",
       "      <th>filepath</th>\n",
       "      <th>label</th>\n",
       "    </tr>\n",
       "  </thead>\n",
       "  <tbody>\n",
       "    <tr>\n",
       "      <th>0</th>\n",
       "      <td>one/988e2f9a_nohash_0.wav</td>\n",
       "      <td>one</td>\n",
       "    </tr>\n",
       "    <tr>\n",
       "      <th>1</th>\n",
       "      <td>one/8d4cdc60_nohash_1.wav</td>\n",
       "      <td>one</td>\n",
       "    </tr>\n",
       "    <tr>\n",
       "      <th>2</th>\n",
       "      <td>one/93ec8b84_nohash_0.wav</td>\n",
       "      <td>one</td>\n",
       "    </tr>\n",
       "    <tr>\n",
       "      <th>3</th>\n",
       "      <td>one/6272b231_nohash_1.wav</td>\n",
       "      <td>one</td>\n",
       "    </tr>\n",
       "    <tr>\n",
       "      <th>4</th>\n",
       "      <td>one/439c84f4_nohash_1.wav</td>\n",
       "      <td>one</td>\n",
       "    </tr>\n",
       "    <tr>\n",
       "      <th>...</th>\n",
       "      <td>...</td>\n",
       "      <td>...</td>\n",
       "    </tr>\n",
       "    <tr>\n",
       "      <th>23661</th>\n",
       "      <td>zero/a60a09cf_nohash_1.wav</td>\n",
       "      <td>zero</td>\n",
       "    </tr>\n",
       "    <tr>\n",
       "      <th>23662</th>\n",
       "      <td>zero/2c7c33e8_nohash_0.wav</td>\n",
       "      <td>zero</td>\n",
       "    </tr>\n",
       "    <tr>\n",
       "      <th>23663</th>\n",
       "      <td>zero/540d8427_nohash_0.wav</td>\n",
       "      <td>zero</td>\n",
       "    </tr>\n",
       "    <tr>\n",
       "      <th>23664</th>\n",
       "      <td>zero/173ae793_nohash_1.wav</td>\n",
       "      <td>zero</td>\n",
       "    </tr>\n",
       "    <tr>\n",
       "      <th>23665</th>\n",
       "      <td>zero/c6389ab0_nohash_0.wav</td>\n",
       "      <td>zero</td>\n",
       "    </tr>\n",
       "  </tbody>\n",
       "</table>\n",
       "<p>23666 rows × 2 columns</p>\n",
       "</div>"
      ],
      "text/plain": [
       "                         filepath label\n",
       "0       one/988e2f9a_nohash_0.wav   one\n",
       "1       one/8d4cdc60_nohash_1.wav   one\n",
       "2       one/93ec8b84_nohash_0.wav   one\n",
       "3       one/6272b231_nohash_1.wav   one\n",
       "4       one/439c84f4_nohash_1.wav   one\n",
       "...                           ...   ...\n",
       "23661  zero/a60a09cf_nohash_1.wav  zero\n",
       "23662  zero/2c7c33e8_nohash_0.wav  zero\n",
       "23663  zero/540d8427_nohash_0.wav  zero\n",
       "23664  zero/173ae793_nohash_1.wav  zero\n",
       "23665  zero/c6389ab0_nohash_0.wav  zero\n",
       "\n",
       "[23666 rows x 2 columns]"
      ]
     },
     "execution_count": 6,
     "metadata": {},
     "output_type": "execute_result"
    }
   ],
   "source": [
    "labels"
   ]
  },
  {
   "cell_type": "markdown",
   "metadata": {},
   "source": [
    "# Parse feautres"
   ]
  },
  {
   "cell_type": "code",
   "execution_count": 55,
   "metadata": {},
   "outputs": [],
   "source": [
    "def parser(row):\n",
    "   filepath = row.filepath\n",
    "   label = row.label\n",
    "   # function to load files and extract features\n",
    "   file_name = os.path.join(os.path.abspath('./words/sc'), filepath)\n",
    "   # print(filename)\n",
    "   # handle exception to check if there isn't a file which is corrupted\n",
    "   try:\n",
    "      # here kaiser_fast is a technique used for faster extraction\n",
    "      X, sample_rate = librosa.load(file_name, res_type='kaiser_fast') \n",
    "      # we extract mfcc feature from data\n",
    "      mfccs = np.mean(librosa.feature.mfcc(y=X, sr=sample_rate, n_mfcc=60).T,axis=0) \n",
    "   except Exception as e:\n",
    "      print(\"Error encountered while parsing file: \", file)\n",
    "      return [None,None]\n",
    " \n",
    "   feature = mfccs\n",
    " \n",
    "   return [feature, label]"
   ]
  },
  {
   "cell_type": "markdown",
   "metadata": {},
   "source": [
    "# THIS CELL RUNS LOOOOOONG"
   ]
  },
  {
   "cell_type": "code",
   "execution_count": 56,
   "metadata": {
    "scrolled": true
   },
   "outputs": [],
   "source": [
    "temp = labels.apply(parser, axis=1)"
   ]
  },
  {
   "cell_type": "markdown",
   "metadata": {},
   "source": [
    "# Prepare Training set"
   ]
  },
  {
   "cell_type": "code",
   "execution_count": 58,
   "metadata": {},
   "outputs": [
    {
     "data": {
      "text/plain": [
       "(23666, 60)"
      ]
     },
     "execution_count": 58,
     "metadata": {},
     "output_type": "execute_result"
    }
   ],
   "source": [
    "X.shape"
   ]
  },
  {
   "cell_type": "code",
   "execution_count": 59,
   "metadata": {},
   "outputs": [
    {
     "data": {
      "text/plain": [
       "(23666, 10)"
      ]
     },
     "execution_count": 59,
     "metadata": {},
     "output_type": "execute_result"
    }
   ],
   "source": [
    "y.shape"
   ]
  },
  {
   "cell_type": "code",
   "execution_count": 19,
   "metadata": {},
   "outputs": [],
   "source": [
    "df = pd.read_csv('./words/number_40_input.csv')"
   ]
  },
  {
   "cell_type": "code",
   "execution_count": 20,
   "metadata": {},
   "outputs": [],
   "source": [
    "df['feature']=df['feature'].map(lambda s: list(map(float,s.strip(' []').split())))"
   ]
  },
  {
   "cell_type": "code",
   "execution_count": 21,
   "metadata": {},
   "outputs": [],
   "source": [
    "# df=pd.DataFrame(temp.to_list(),columns = ['feature','label'])\n",
    "X = np.array(df.feature.tolist())\n",
    "y = np.array(df.label.tolist())\n",
    "lb = LabelEncoder()\n",
    "y = np_utils.to_categorical(lb.fit_transform(y))"
   ]
  },
  {
   "cell_type": "code",
   "execution_count": 22,
   "metadata": {},
   "outputs": [
    {
     "data": {
      "text/plain": [
       "(23666, 10)"
      ]
     },
     "execution_count": 22,
     "metadata": {},
     "output_type": "execute_result"
    }
   ],
   "source": [
    "y.shape"
   ]
  },
  {
   "cell_type": "code",
   "execution_count": 39,
   "metadata": {},
   "outputs": [],
   "source": [
    "def make_Model(batch_size):\n",
    "    filter_size = 2\n",
    "    num_labels = len(words)\n",
    "    # build model\n",
    "    model = Sequential()\n",
    "\n",
    "    model.add(Dense(128, input_shape=(40,)))\n",
    "    model.add(Activation('relu'))\n",
    "#     model.add(Dropout(0.5))\n",
    "\n",
    "    model.add(Dense(128))\n",
    "    model.add(Activation('relu'))\n",
    "#     model.add(Dropout(0.5))\n",
    "    \n",
    "    model.add(Dense(num_labels))\n",
    "    model.add(Activation('softmax'))\n",
    "\n",
    "    model.compile(loss='categorical_crossentropy', metrics=['accuracy'], optimizer='adam')\n",
    "    return model\n",
    "\n",
    "def train_Model(split,batch_size=32):\n",
    "    X_train, X_test, y_train, y_test = train_test_split(X, y, test_size=split, random_state=22)\n",
    "    model = make_Model(batch_size)\n",
    "    model.fit(X_train, y_train, batch_size=32, epochs=20, validation_data=(X_test, y_test))\n",
    "    return model"
   ]
  },
  {
   "cell_type": "code",
   "execution_count": 15,
   "metadata": {},
   "outputs": [
    {
     "name": "stdout",
     "output_type": "stream",
     "text": [
      "Epoch 1/20\n",
      "592/592 [==============================] - 1s 1ms/step - loss: 6.6432 - accuracy: 0.1065 - val_loss: 2.3027 - val_accuracy: 0.1003\n",
      "Epoch 2/20\n",
      "592/592 [==============================] - 1s 1ms/step - loss: 2.3207 - accuracy: 0.1015 - val_loss: 2.3027 - val_accuracy: 0.0965\n",
      "Epoch 3/20\n",
      "592/592 [==============================] - 1s 994us/step - loss: 2.3101 - accuracy: 0.0990 - val_loss: 2.3027 - val_accuracy: 0.0965\n",
      "Epoch 4/20\n",
      "592/592 [==============================] - 1s 996us/step - loss: 2.3051 - accuracy: 0.1062 - val_loss: 2.2697 - val_accuracy: 0.1409\n",
      "Epoch 5/20\n",
      "592/592 [==============================] - 1s 985us/step - loss: 2.2723 - accuracy: 0.1282 - val_loss: 2.2422 - val_accuracy: 0.1580\n",
      "Epoch 6/20\n",
      "592/592 [==============================] - 1s 999us/step - loss: 2.2465 - accuracy: 0.1420 - val_loss: 2.2133 - val_accuracy: 0.1684\n",
      "Epoch 7/20\n",
      "592/592 [==============================] - 1s 1ms/step - loss: 2.2223 - accuracy: 0.1578 - val_loss: 2.1243 - val_accuracy: 0.2032\n",
      "Epoch 8/20\n",
      "592/592 [==============================] - 1s 989us/step - loss: 2.1701 - accuracy: 0.1800 - val_loss: 2.0360 - val_accuracy: 0.2421\n",
      "Epoch 9/20\n",
      "592/592 [==============================] - 1s 979us/step - loss: 2.0909 - accuracy: 0.2127 - val_loss: 1.9683 - val_accuracy: 0.2809\n",
      "Epoch 10/20\n",
      "592/592 [==============================] - 1s 1ms/step - loss: 2.0039 - accuracy: 0.2656 - val_loss: 1.7942 - val_accuracy: 0.3709\n",
      "Epoch 11/20\n",
      "592/592 [==============================] - 1s 981us/step - loss: 1.9144 - accuracy: 0.3083 - val_loss: 1.7658 - val_accuracy: 0.3927\n",
      "Epoch 12/20\n",
      "592/592 [==============================] - 1s 996us/step - loss: 1.8599 - accuracy: 0.3354 - val_loss: 1.7488 - val_accuracy: 0.4030\n",
      "Epoch 13/20\n",
      "592/592 [==============================] - 1s 993us/step - loss: 1.8105 - accuracy: 0.3528 - val_loss: 1.6775 - val_accuracy: 0.4390\n",
      "Epoch 14/20\n",
      "592/592 [==============================] - 1s 1ms/step - loss: 1.7804 - accuracy: 0.3698 - val_loss: 1.6794 - val_accuracy: 0.4216\n",
      "Epoch 15/20\n",
      "592/592 [==============================] - 1s 1ms/step - loss: 1.7575 - accuracy: 0.3841 - val_loss: 1.6306 - val_accuracy: 0.4495\n",
      "Epoch 16/20\n",
      "592/592 [==============================] - 1s 1ms/step - loss: 1.7258 - accuracy: 0.3970 - val_loss: 1.6138 - val_accuracy: 0.4700\n",
      "Epoch 17/20\n",
      "592/592 [==============================] - 1s 1ms/step - loss: 1.7172 - accuracy: 0.4007 - val_loss: 1.5958 - val_accuracy: 0.4622\n",
      "Epoch 18/20\n",
      "592/592 [==============================] - 1s 1ms/step - loss: 1.6940 - accuracy: 0.4076 - val_loss: 1.5833 - val_accuracy: 0.4645\n",
      "Epoch 19/20\n",
      "592/592 [==============================] - 1s 1ms/step - loss: 1.6757 - accuracy: 0.4200 - val_loss: 1.5847 - val_accuracy: 0.4654\n",
      "Epoch 20/20\n",
      "592/592 [==============================] - 1s 994us/step - loss: 1.6736 - accuracy: 0.4183 - val_loss: 1.5609 - val_accuracy: 0.4835\n"
     ]
    }
   ],
   "source": [
    "model1 = train_Model(0.2)"
   ]
  },
  {
   "cell_type": "code",
   "execution_count": 16,
   "metadata": {},
   "outputs": [
    {
     "name": "stdout",
     "output_type": "stream",
     "text": [
      "Epoch 1/20\n",
      "370/370 [==============================] - 1s 2ms/step - loss: 8.9307 - accuracy: 0.1088 - val_loss: 2.3028 - val_accuracy: 0.0972\n",
      "Epoch 2/20\n",
      "370/370 [==============================] - 0s 1ms/step - loss: 2.3470 - accuracy: 0.1074 - val_loss: 2.3026 - val_accuracy: 0.0981\n",
      "Epoch 3/20\n",
      "370/370 [==============================] - 0s 1ms/step - loss: 2.3138 - accuracy: 0.1141 - val_loss: 2.2882 - val_accuracy: 0.1146\n",
      "Epoch 4/20\n",
      "370/370 [==============================] - 1s 1ms/step - loss: 2.2803 - accuracy: 0.1269 - val_loss: 2.2418 - val_accuracy: 0.1601\n",
      "Epoch 5/20\n",
      "370/370 [==============================] - 0s 1ms/step - loss: 2.2584 - accuracy: 0.1440 - val_loss: 2.2054 - val_accuracy: 0.1677\n",
      "Epoch 6/20\n",
      "370/370 [==============================] - 0s 1ms/step - loss: 2.2372 - accuracy: 0.1508 - val_loss: 2.1778 - val_accuracy: 0.1832\n",
      "Epoch 7/20\n",
      "370/370 [==============================] - 0s 1ms/step - loss: 2.2219 - accuracy: 0.1601 - val_loss: 2.1476 - val_accuracy: 0.1975\n",
      "Epoch 8/20\n",
      "370/370 [==============================] - 0s 1ms/step - loss: 2.2044 - accuracy: 0.1645 - val_loss: 2.1605 - val_accuracy: 0.1902\n",
      "Epoch 9/20\n",
      "370/370 [==============================] - 1s 1ms/step - loss: 2.1920 - accuracy: 0.1699 - val_loss: 2.1141 - val_accuracy: 0.2197\n",
      "Epoch 10/20\n",
      "370/370 [==============================] - 0s 1ms/step - loss: 2.1669 - accuracy: 0.1820 - val_loss: 2.0946 - val_accuracy: 0.2429\n",
      "Epoch 11/20\n",
      "370/370 [==============================] - 0s 1ms/step - loss: 2.1464 - accuracy: 0.1963 - val_loss: 2.0398 - val_accuracy: 0.2687\n",
      "Epoch 12/20\n",
      "370/370 [==============================] - 1s 1ms/step - loss: 2.1048 - accuracy: 0.2186 - val_loss: 1.9806 - val_accuracy: 0.2642\n",
      "Epoch 13/20\n",
      "370/370 [==============================] - 0s 1ms/step - loss: 2.0402 - accuracy: 0.2341 - val_loss: 1.9100 - val_accuracy: 0.3269\n",
      "Epoch 14/20\n",
      "370/370 [==============================] - 0s 1ms/step - loss: 1.9798 - accuracy: 0.2684 - val_loss: 1.8291 - val_accuracy: 0.3583\n",
      "Epoch 15/20\n",
      "370/370 [==============================] - 0s 1ms/step - loss: 1.9394 - accuracy: 0.2981 - val_loss: 1.8043 - val_accuracy: 0.3798\n",
      "Epoch 16/20\n",
      "370/370 [==============================] - 1s 1ms/step - loss: 1.8738 - accuracy: 0.3224 - val_loss: 1.7517 - val_accuracy: 0.3975\n",
      "Epoch 17/20\n",
      "370/370 [==============================] - 1s 2ms/step - loss: 1.8464 - accuracy: 0.3439 - val_loss: 1.7188 - val_accuracy: 0.3994\n",
      "Epoch 18/20\n",
      "370/370 [==============================] - 1s 1ms/step - loss: 1.8043 - accuracy: 0.3655 - val_loss: 1.7280 - val_accuracy: 0.3982\n",
      "Epoch 19/20\n",
      "370/370 [==============================] - 1s 1ms/step - loss: 1.7825 - accuracy: 0.3758 - val_loss: 1.6844 - val_accuracy: 0.4081\n",
      "Epoch 20/20\n",
      "370/370 [==============================] - 1s 1ms/step - loss: 1.7617 - accuracy: 0.3830 - val_loss: 1.6879 - val_accuracy: 0.4276\n"
     ]
    },
    {
     "data": {
      "text/plain": [
       "<tensorflow.python.keras.engine.sequential.Sequential at 0x1560ef7f0>"
      ]
     },
     "execution_count": 16,
     "metadata": {},
     "output_type": "execute_result"
    }
   ],
   "source": [
    "train_Model(0.5)"
   ]
  },
  {
   "cell_type": "code",
   "execution_count": 40,
   "metadata": {},
   "outputs": [
    {
     "name": "stdout",
     "output_type": "stream",
     "text": [
      "Epoch 1/20\n",
      "592/592 [==============================] - 1s 905us/step - loss: 3.1822 - accuracy: 0.3031 - val_loss: 1.7769 - val_accuracy: 0.3982\n",
      "Epoch 2/20\n",
      "592/592 [==============================] - 0s 761us/step - loss: 2.0105 - accuracy: 0.3777 - val_loss: 2.5982 - val_accuracy: 0.3088\n",
      "Epoch 3/20\n",
      "592/592 [==============================] - 0s 761us/step - loss: 1.9674 - accuracy: 0.3899 - val_loss: 1.7664 - val_accuracy: 0.4284\n",
      "Epoch 4/20\n",
      "592/592 [==============================] - 0s 744us/step - loss: 1.7548 - accuracy: 0.4236 - val_loss: 1.8422 - val_accuracy: 0.4301\n",
      "Epoch 5/20\n",
      "592/592 [==============================] - 0s 749us/step - loss: 1.7061 - accuracy: 0.4264 - val_loss: 1.6108 - val_accuracy: 0.4542\n",
      "Epoch 6/20\n",
      "592/592 [==============================] - 0s 761us/step - loss: 1.6180 - accuracy: 0.4494 - val_loss: 1.5570 - val_accuracy: 0.4597\n",
      "Epoch 7/20\n",
      "592/592 [==============================] - 0s 746us/step - loss: 1.5734 - accuracy: 0.4598 - val_loss: 1.5811 - val_accuracy: 0.4597\n",
      "Epoch 8/20\n",
      "592/592 [==============================] - 0s 754us/step - loss: 1.5250 - accuracy: 0.4732 - val_loss: 1.5063 - val_accuracy: 0.4886\n",
      "Epoch 9/20\n",
      "592/592 [==============================] - 0s 767us/step - loss: 1.4818 - accuracy: 0.4885 - val_loss: 1.4656 - val_accuracy: 0.4926\n",
      "Epoch 10/20\n",
      "592/592 [==============================] - 0s 753us/step - loss: 1.4415 - accuracy: 0.5015 - val_loss: 1.4397 - val_accuracy: 0.5025\n",
      "Epoch 11/20\n",
      "592/592 [==============================] - 0s 783us/step - loss: 1.4122 - accuracy: 0.5115 - val_loss: 1.4394 - val_accuracy: 0.5091\n",
      "Epoch 12/20\n",
      "592/592 [==============================] - 0s 751us/step - loss: 1.3791 - accuracy: 0.5218 - val_loss: 1.4244 - val_accuracy: 0.5118\n",
      "Epoch 13/20\n",
      "592/592 [==============================] - 0s 764us/step - loss: 1.3564 - accuracy: 0.5303 - val_loss: 1.4409 - val_accuracy: 0.5089\n",
      "Epoch 14/20\n",
      "592/592 [==============================] - 0s 785us/step - loss: 1.3269 - accuracy: 0.5401 - val_loss: 1.3790 - val_accuracy: 0.5323\n",
      "Epoch 15/20\n",
      "592/592 [==============================] - 0s 761us/step - loss: 1.3051 - accuracy: 0.5451 - val_loss: 1.3974 - val_accuracy: 0.5196\n",
      "Epoch 16/20\n",
      "592/592 [==============================] - 0s 763us/step - loss: 1.2816 - accuracy: 0.5559 - val_loss: 1.3839 - val_accuracy: 0.5315\n",
      "Epoch 17/20\n",
      "592/592 [==============================] - 0s 760us/step - loss: 1.2590 - accuracy: 0.5603 - val_loss: 1.3453 - val_accuracy: 0.5450\n",
      "Epoch 18/20\n",
      "592/592 [==============================] - 0s 764us/step - loss: 1.2377 - accuracy: 0.5698 - val_loss: 1.3428 - val_accuracy: 0.5353\n",
      "Epoch 19/20\n",
      "592/592 [==============================] - 0s 782us/step - loss: 1.2214 - accuracy: 0.5760 - val_loss: 1.3437 - val_accuracy: 0.5488\n",
      "Epoch 20/20\n",
      "592/592 [==============================] - 0s 765us/step - loss: 1.2013 - accuracy: 0.5829 - val_loss: 1.3320 - val_accuracy: 0.5467\n"
     ]
    }
   ],
   "source": [
    "history = train_Model(0.2,32)"
   ]
  },
  {
   "cell_type": "code",
   "execution_count": 54,
   "metadata": {},
   "outputs": [],
   "source": [
    "df.to_csv('./words/number_40_input.csv', index=False)"
   ]
  },
  {
   "cell_type": "code",
   "execution_count": null,
   "metadata": {},
   "outputs": [],
   "source": []
  }
 ],
 "metadata": {
  "kernelspec": {
   "display_name": "Python 3",
   "language": "python",
   "name": "python3"
  },
  "language_info": {
   "codemirror_mode": {
    "name": "ipython",
    "version": 3
   },
   "file_extension": ".py",
   "mimetype": "text/x-python",
   "name": "python",
   "nbconvert_exporter": "python",
   "pygments_lexer": "ipython3",
   "version": "3.7.3"
  }
 },
 "nbformat": 4,
 "nbformat_minor": 4
}
